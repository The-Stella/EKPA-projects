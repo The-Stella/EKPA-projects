{
  "cells": [
    {
      "cell_type": "markdown",
      "metadata": {
        "id": "view-in-github"
      },
      "source": [
        "<a href=\"https://colab.research.google.com/github/kdemertzis/EKPA/blob/main/DGA_Classification.ipynb\" target=\"_parent\"><img src=\"https://colab.research.google.com/assets/colab-badge.svg\" alt=\"Open In Colab\"/></a>"
      ]
    },
    {
      "cell_type": "code",
      "execution_count": 2,
      "metadata": {
        "colab": {
          "base_uri": "https://localhost:8080/",
          "height": 1000
        },
        "id": "2rvGqQdY9C6s",
        "outputId": "17101f9a-ebee-4dfe-cb30-8f80697d3bcf"
      },
      "outputs": [
        {
          "output_type": "stream",
          "name": "stdout",
          "text": [
            "Collecting pycaret\n",
            "  Downloading pycaret-3.3.2-py3-none-any.whl.metadata (17 kB)\n",
            "Requirement already satisfied: ipython>=5.5.0 in /usr/local/lib/python3.11/dist-packages (from pycaret) (7.34.0)\n",
            "Requirement already satisfied: ipywidgets>=7.6.5 in /usr/local/lib/python3.11/dist-packages (from pycaret) (7.7.1)\n",
            "Requirement already satisfied: tqdm>=4.62.0 in /usr/local/lib/python3.11/dist-packages (from pycaret) (4.67.1)\n",
            "Collecting numpy<1.27,>=1.21 (from pycaret)\n",
            "  Downloading numpy-1.26.4-cp311-cp311-manylinux_2_17_x86_64.manylinux2014_x86_64.whl.metadata (61 kB)\n",
            "\u001b[2K     \u001b[90m━━━━━━━━━━━━━━━━━━━━━━━━━━━━━━━━━━━━━━━━\u001b[0m \u001b[32m61.0/61.0 kB\u001b[0m \u001b[31m2.4 MB/s\u001b[0m eta \u001b[36m0:00:00\u001b[0m\n",
            "\u001b[?25hCollecting pandas<2.2.0 (from pycaret)\n",
            "  Downloading pandas-2.1.4-cp311-cp311-manylinux_2_17_x86_64.manylinux2014_x86_64.whl.metadata (18 kB)\n",
            "Requirement already satisfied: jinja2>=3 in /usr/local/lib/python3.11/dist-packages (from pycaret) (3.1.6)\n",
            "Collecting scipy<=1.11.4,>=1.6.1 (from pycaret)\n",
            "  Downloading scipy-1.11.4-cp311-cp311-manylinux_2_17_x86_64.manylinux2014_x86_64.whl.metadata (60 kB)\n",
            "\u001b[2K     \u001b[90m━━━━━━━━━━━━━━━━━━━━━━━━━━━━━━━━━━━━━━━━\u001b[0m \u001b[32m60.4/60.4 kB\u001b[0m \u001b[31m3.9 MB/s\u001b[0m eta \u001b[36m0:00:00\u001b[0m\n",
            "\u001b[?25hCollecting joblib<1.4,>=1.2.0 (from pycaret)\n",
            "  Downloading joblib-1.3.2-py3-none-any.whl.metadata (5.4 kB)\n",
            "Requirement already satisfied: scikit-learn>1.4.0 in /usr/local/lib/python3.11/dist-packages (from pycaret) (1.6.1)\n",
            "Collecting pyod>=1.1.3 (from pycaret)\n",
            "  Downloading pyod-2.0.5-py3-none-any.whl.metadata (46 kB)\n",
            "\u001b[2K     \u001b[90m━━━━━━━━━━━━━━━━━━━━━━━━━━━━━━━━━━━━━━━━\u001b[0m \u001b[32m46.3/46.3 kB\u001b[0m \u001b[31m3.3 MB/s\u001b[0m eta \u001b[36m0:00:00\u001b[0m\n",
            "\u001b[?25hRequirement already satisfied: imbalanced-learn>=0.12.0 in /usr/local/lib/python3.11/dist-packages (from pycaret) (0.13.0)\n",
            "Collecting category-encoders>=2.4.0 (from pycaret)\n",
            "  Downloading category_encoders-2.8.1-py3-none-any.whl.metadata (7.9 kB)\n",
            "Requirement already satisfied: lightgbm>=3.0.0 in /usr/local/lib/python3.11/dist-packages (from pycaret) (4.5.0)\n",
            "Requirement already satisfied: numba>=0.55.0 in /usr/local/lib/python3.11/dist-packages (from pycaret) (0.60.0)\n",
            "Requirement already satisfied: requests>=2.27.1 in /usr/local/lib/python3.11/dist-packages (from pycaret) (2.32.3)\n",
            "Requirement already satisfied: psutil>=5.9.0 in /usr/local/lib/python3.11/dist-packages (from pycaret) (5.9.5)\n",
            "Requirement already satisfied: markupsafe>=2.0.1 in /usr/local/lib/python3.11/dist-packages (from pycaret) (3.0.2)\n",
            "Requirement already satisfied: importlib-metadata>=4.12.0 in /usr/local/lib/python3.11/dist-packages (from pycaret) (8.7.0)\n",
            "Requirement already satisfied: nbformat>=4.2.0 in /usr/local/lib/python3.11/dist-packages (from pycaret) (5.10.4)\n",
            "Requirement already satisfied: cloudpickle in /usr/local/lib/python3.11/dist-packages (from pycaret) (3.1.1)\n",
            "Collecting deprecation>=2.1.0 (from pycaret)\n",
            "  Downloading deprecation-2.1.0-py2.py3-none-any.whl.metadata (4.6 kB)\n",
            "Requirement already satisfied: xxhash in /usr/local/lib/python3.11/dist-packages (from pycaret) (3.5.0)\n",
            "Collecting matplotlib<3.8.0 (from pycaret)\n",
            "  Downloading matplotlib-3.7.5-cp311-cp311-manylinux_2_17_x86_64.manylinux2014_x86_64.whl.metadata (5.7 kB)\n",
            "Collecting scikit-plot>=0.3.7 (from pycaret)\n",
            "  Downloading scikit_plot-0.3.7-py3-none-any.whl.metadata (7.1 kB)\n",
            "Requirement already satisfied: yellowbrick>=1.4 in /usr/local/lib/python3.11/dist-packages (from pycaret) (1.5)\n",
            "Requirement already satisfied: plotly>=5.14.0 in /usr/local/lib/python3.11/dist-packages (from pycaret) (5.24.1)\n",
            "Collecting kaleido>=0.2.1 (from pycaret)\n",
            "  Downloading kaleido-1.0.0-py3-none-any.whl.metadata (5.6 kB)\n",
            "Collecting schemdraw==0.15 (from pycaret)\n",
            "  Downloading schemdraw-0.15-py3-none-any.whl.metadata (2.2 kB)\n",
            "Collecting plotly-resampler>=0.8.3.1 (from pycaret)\n",
            "  Downloading plotly_resampler-0.10.0-py3-none-any.whl.metadata (13 kB)\n",
            "Requirement already satisfied: statsmodels>=0.12.1 in /usr/local/lib/python3.11/dist-packages (from pycaret) (0.14.4)\n",
            "Collecting sktime==0.26.0 (from pycaret)\n",
            "  Downloading sktime-0.26.0-py3-none-any.whl.metadata (29 kB)\n",
            "Collecting tbats>=1.1.3 (from pycaret)\n",
            "  Downloading tbats-1.1.3-py3-none-any.whl.metadata (3.8 kB)\n",
            "Collecting pmdarima>=2.0.4 (from pycaret)\n",
            "  Downloading pmdarima-2.0.4-cp311-cp311-manylinux_2_17_x86_64.manylinux2014_x86_64.manylinux_2_28_x86_64.whl.metadata (7.8 kB)\n",
            "Requirement already satisfied: wurlitzer in /usr/local/lib/python3.11/dist-packages (from pycaret) (3.1.1)\n",
            "Requirement already satisfied: packaging in /usr/local/lib/python3.11/dist-packages (from sktime==0.26.0->pycaret) (24.2)\n",
            "Collecting scikit-base<0.8.0 (from sktime==0.26.0->pycaret)\n",
            "  Downloading scikit_base-0.7.8-py3-none-any.whl.metadata (8.8 kB)\n",
            "Collecting scikit-learn>1.4.0 (from pycaret)\n",
            "  Downloading scikit_learn-1.4.2-cp311-cp311-manylinux_2_17_x86_64.manylinux2014_x86_64.whl.metadata (11 kB)\n",
            "Requirement already satisfied: patsy>=0.5.1 in /usr/local/lib/python3.11/dist-packages (from category-encoders>=2.4.0->pycaret) (1.0.1)\n",
            "INFO: pip is looking at multiple versions of category-encoders to determine which version is compatible with other requirements. This could take a while.\n",
            "Collecting category-encoders>=2.4.0 (from pycaret)\n",
            "  Downloading category_encoders-2.8.0-py3-none-any.whl.metadata (7.9 kB)\n",
            "  Downloading category_encoders-2.7.0-py3-none-any.whl.metadata (7.9 kB)\n",
            "Requirement already satisfied: sklearn-compat<1,>=0.1 in /usr/local/lib/python3.11/dist-packages (from imbalanced-learn>=0.12.0->pycaret) (0.1.3)\n",
            "Requirement already satisfied: threadpoolctl<4,>=2.0.0 in /usr/local/lib/python3.11/dist-packages (from imbalanced-learn>=0.12.0->pycaret) (3.6.0)\n",
            "Requirement already satisfied: zipp>=3.20 in /usr/local/lib/python3.11/dist-packages (from importlib-metadata>=4.12.0->pycaret) (3.23.0)\n",
            "Requirement already satisfied: setuptools>=18.5 in /usr/local/lib/python3.11/dist-packages (from ipython>=5.5.0->pycaret) (75.2.0)\n",
            "Collecting jedi>=0.16 (from ipython>=5.5.0->pycaret)\n",
            "  Downloading jedi-0.19.2-py2.py3-none-any.whl.metadata (22 kB)\n",
            "Requirement already satisfied: decorator in /usr/local/lib/python3.11/dist-packages (from ipython>=5.5.0->pycaret) (4.4.2)\n",
            "Requirement already satisfied: pickleshare in /usr/local/lib/python3.11/dist-packages (from ipython>=5.5.0->pycaret) (0.7.5)\n",
            "Requirement already satisfied: traitlets>=4.2 in /usr/local/lib/python3.11/dist-packages (from ipython>=5.5.0->pycaret) (5.7.1)\n",
            "Requirement already satisfied: prompt-toolkit!=3.0.0,!=3.0.1,<3.1.0,>=2.0.0 in /usr/local/lib/python3.11/dist-packages (from ipython>=5.5.0->pycaret) (3.0.51)\n",
            "Requirement already satisfied: pygments in /usr/local/lib/python3.11/dist-packages (from ipython>=5.5.0->pycaret) (2.19.2)\n",
            "Requirement already satisfied: backcall in /usr/local/lib/python3.11/dist-packages (from ipython>=5.5.0->pycaret) (0.2.0)\n",
            "Requirement already satisfied: matplotlib-inline in /usr/local/lib/python3.11/dist-packages (from ipython>=5.5.0->pycaret) (0.1.7)\n",
            "Requirement already satisfied: pexpect>4.3 in /usr/local/lib/python3.11/dist-packages (from ipython>=5.5.0->pycaret) (4.9.0)\n",
            "Requirement already satisfied: ipykernel>=4.5.1 in /usr/local/lib/python3.11/dist-packages (from ipywidgets>=7.6.5->pycaret) (6.17.1)\n",
            "Requirement already satisfied: ipython-genutils~=0.2.0 in /usr/local/lib/python3.11/dist-packages (from ipywidgets>=7.6.5->pycaret) (0.2.0)\n",
            "Requirement already satisfied: widgetsnbextension~=3.6.0 in /usr/local/lib/python3.11/dist-packages (from ipywidgets>=7.6.5->pycaret) (3.6.10)\n",
            "Requirement already satisfied: jupyterlab-widgets>=1.0.0 in /usr/local/lib/python3.11/dist-packages (from ipywidgets>=7.6.5->pycaret) (3.0.15)\n",
            "Collecting choreographer>=1.0.5 (from kaleido>=0.2.1->pycaret)\n",
            "  Downloading choreographer-1.0.9-py3-none-any.whl.metadata (5.6 kB)\n",
            "Collecting logistro>=1.0.8 (from kaleido>=0.2.1->pycaret)\n",
            "  Downloading logistro-1.1.0-py3-none-any.whl.metadata (2.6 kB)\n",
            "Requirement already satisfied: orjson>=3.10.15 in /usr/local/lib/python3.11/dist-packages (from kaleido>=0.2.1->pycaret) (3.10.18)\n",
            "Requirement already satisfied: contourpy>=1.0.1 in /usr/local/lib/python3.11/dist-packages (from matplotlib<3.8.0->pycaret) (1.3.2)\n",
            "Requirement already satisfied: cycler>=0.10 in /usr/local/lib/python3.11/dist-packages (from matplotlib<3.8.0->pycaret) (0.12.1)\n",
            "Requirement already satisfied: fonttools>=4.22.0 in /usr/local/lib/python3.11/dist-packages (from matplotlib<3.8.0->pycaret) (4.58.5)\n",
            "Requirement already satisfied: kiwisolver>=1.0.1 in /usr/local/lib/python3.11/dist-packages (from matplotlib<3.8.0->pycaret) (1.4.8)\n",
            "Requirement already satisfied: pillow>=6.2.0 in /usr/local/lib/python3.11/dist-packages (from matplotlib<3.8.0->pycaret) (11.2.1)\n",
            "Requirement already satisfied: pyparsing>=2.3.1 in /usr/local/lib/python3.11/dist-packages (from matplotlib<3.8.0->pycaret) (3.2.3)\n",
            "Requirement already satisfied: python-dateutil>=2.7 in /usr/local/lib/python3.11/dist-packages (from matplotlib<3.8.0->pycaret) (2.9.0.post0)\n",
            "Requirement already satisfied: fastjsonschema>=2.15 in /usr/local/lib/python3.11/dist-packages (from nbformat>=4.2.0->pycaret) (2.21.1)\n",
            "Requirement already satisfied: jsonschema>=2.6 in /usr/local/lib/python3.11/dist-packages (from nbformat>=4.2.0->pycaret) (4.24.0)\n",
            "Requirement already satisfied: jupyter-core!=5.0.*,>=4.12 in /usr/local/lib/python3.11/dist-packages (from nbformat>=4.2.0->pycaret) (5.8.1)\n",
            "Requirement already satisfied: llvmlite<0.44,>=0.43.0dev0 in /usr/local/lib/python3.11/dist-packages (from numba>=0.55.0->pycaret) (0.43.0)\n",
            "Requirement already satisfied: pytz>=2020.1 in /usr/local/lib/python3.11/dist-packages (from pandas<2.2.0->pycaret) (2025.2)\n",
            "Requirement already satisfied: tzdata>=2022.1 in /usr/local/lib/python3.11/dist-packages (from pandas<2.2.0->pycaret) (2025.2)\n",
            "Requirement already satisfied: tenacity>=6.2.0 in /usr/local/lib/python3.11/dist-packages (from plotly>=5.14.0->pycaret) (8.5.0)\n",
            "Collecting dash>=2.9.0 (from plotly-resampler>=0.8.3.1->pycaret)\n",
            "  Downloading dash-3.1.1-py3-none-any.whl.metadata (10 kB)\n",
            "Collecting tsdownsample>=0.1.3 (from plotly-resampler>=0.8.3.1->pycaret)\n",
            "  Downloading tsdownsample-0.1.4.1-cp311-cp311-manylinux_2_17_x86_64.manylinux2014_x86_64.whl.metadata (8.0 kB)\n",
            "Requirement already satisfied: Cython!=0.29.18,!=0.29.31,>=0.29 in /usr/local/lib/python3.11/dist-packages (from pmdarima>=2.0.4->pycaret) (3.0.12)\n",
            "Requirement already satisfied: urllib3 in /usr/local/lib/python3.11/dist-packages (from pmdarima>=2.0.4->pycaret) (2.4.0)\n",
            "Requirement already satisfied: charset-normalizer<4,>=2 in /usr/local/lib/python3.11/dist-packages (from requests>=2.27.1->pycaret) (3.4.2)\n",
            "Requirement already satisfied: idna<4,>=2.5 in /usr/local/lib/python3.11/dist-packages (from requests>=2.27.1->pycaret) (3.10)\n",
            "Requirement already satisfied: certifi>=2017.4.17 in /usr/local/lib/python3.11/dist-packages (from requests>=2.27.1->pycaret) (2025.6.15)\n",
            "Requirement already satisfied: simplejson>=3.19.3 in /usr/local/lib/python3.11/dist-packages (from choreographer>=1.0.5->kaleido>=0.2.1->pycaret) (3.20.1)\n",
            "Requirement already satisfied: Flask<3.2,>=1.0.4 in /usr/local/lib/python3.11/dist-packages (from dash>=2.9.0->plotly-resampler>=0.8.3.1->pycaret) (3.1.1)\n",
            "Requirement already satisfied: Werkzeug<3.2 in /usr/local/lib/python3.11/dist-packages (from dash>=2.9.0->plotly-resampler>=0.8.3.1->pycaret) (3.1.3)\n",
            "Requirement already satisfied: typing-extensions>=4.1.1 in /usr/local/lib/python3.11/dist-packages (from dash>=2.9.0->plotly-resampler>=0.8.3.1->pycaret) (4.14.1)\n",
            "Collecting retrying (from dash>=2.9.0->plotly-resampler>=0.8.3.1->pycaret)\n",
            "  Downloading retrying-1.4.0-py3-none-any.whl.metadata (7.5 kB)\n",
            "Requirement already satisfied: nest-asyncio in /usr/local/lib/python3.11/dist-packages (from dash>=2.9.0->plotly-resampler>=0.8.3.1->pycaret) (1.6.0)\n",
            "Requirement already satisfied: debugpy>=1.0 in /usr/local/lib/python3.11/dist-packages (from ipykernel>=4.5.1->ipywidgets>=7.6.5->pycaret) (1.8.0)\n",
            "Requirement already satisfied: jupyter-client>=6.1.12 in /usr/local/lib/python3.11/dist-packages (from ipykernel>=4.5.1->ipywidgets>=7.6.5->pycaret) (6.1.12)\n",
            "Requirement already satisfied: pyzmq>=17 in /usr/local/lib/python3.11/dist-packages (from ipykernel>=4.5.1->ipywidgets>=7.6.5->pycaret) (24.0.1)\n",
            "Requirement already satisfied: tornado>=6.1 in /usr/local/lib/python3.11/dist-packages (from ipykernel>=4.5.1->ipywidgets>=7.6.5->pycaret) (6.4.2)\n",
            "Requirement already satisfied: parso<0.9.0,>=0.8.4 in /usr/local/lib/python3.11/dist-packages (from jedi>=0.16->ipython>=5.5.0->pycaret) (0.8.4)\n",
            "Requirement already satisfied: attrs>=22.2.0 in /usr/local/lib/python3.11/dist-packages (from jsonschema>=2.6->nbformat>=4.2.0->pycaret) (25.3.0)\n",
            "Requirement already satisfied: jsonschema-specifications>=2023.03.6 in /usr/local/lib/python3.11/dist-packages (from jsonschema>=2.6->nbformat>=4.2.0->pycaret) (2025.4.1)\n",
            "Requirement already satisfied: referencing>=0.28.4 in /usr/local/lib/python3.11/dist-packages (from jsonschema>=2.6->nbformat>=4.2.0->pycaret) (0.36.2)\n",
            "Requirement already satisfied: rpds-py>=0.7.1 in /usr/local/lib/python3.11/dist-packages (from jsonschema>=2.6->nbformat>=4.2.0->pycaret) (0.26.0)\n",
            "Requirement already satisfied: platformdirs>=2.5 in /usr/local/lib/python3.11/dist-packages (from jupyter-core!=5.0.*,>=4.12->nbformat>=4.2.0->pycaret) (4.3.8)\n",
            "Requirement already satisfied: ptyprocess>=0.5 in /usr/local/lib/python3.11/dist-packages (from pexpect>4.3->ipython>=5.5.0->pycaret) (0.7.0)\n",
            "Requirement already satisfied: wcwidth in /usr/local/lib/python3.11/dist-packages (from prompt-toolkit!=3.0.0,!=3.0.1,<3.1.0,>=2.0.0->ipython>=5.5.0->pycaret) (0.2.13)\n",
            "Requirement already satisfied: six>=1.5 in /usr/local/lib/python3.11/dist-packages (from python-dateutil>=2.7->matplotlib<3.8.0->pycaret) (1.17.0)\n",
            "Requirement already satisfied: notebook>=4.4.1 in /usr/local/lib/python3.11/dist-packages (from widgetsnbextension~=3.6.0->ipywidgets>=7.6.5->pycaret) (6.5.7)\n",
            "Requirement already satisfied: blinker>=1.9.0 in /usr/local/lib/python3.11/dist-packages (from Flask<3.2,>=1.0.4->dash>=2.9.0->plotly-resampler>=0.8.3.1->pycaret) (1.9.0)\n",
            "Requirement already satisfied: click>=8.1.3 in /usr/local/lib/python3.11/dist-packages (from Flask<3.2,>=1.0.4->dash>=2.9.0->plotly-resampler>=0.8.3.1->pycaret) (8.2.1)\n",
            "Requirement already satisfied: itsdangerous>=2.2.0 in /usr/local/lib/python3.11/dist-packages (from Flask<3.2,>=1.0.4->dash>=2.9.0->plotly-resampler>=0.8.3.1->pycaret) (2.2.0)\n",
            "Requirement already satisfied: argon2-cffi in /usr/local/lib/python3.11/dist-packages (from notebook>=4.4.1->widgetsnbextension~=3.6.0->ipywidgets>=7.6.5->pycaret) (25.1.0)\n",
            "Requirement already satisfied: nbconvert>=5 in /usr/local/lib/python3.11/dist-packages (from notebook>=4.4.1->widgetsnbextension~=3.6.0->ipywidgets>=7.6.5->pycaret) (7.16.6)\n",
            "Requirement already satisfied: Send2Trash>=1.8.0 in /usr/local/lib/python3.11/dist-packages (from notebook>=4.4.1->widgetsnbextension~=3.6.0->ipywidgets>=7.6.5->pycaret) (1.8.3)\n",
            "Requirement already satisfied: terminado>=0.8.3 in /usr/local/lib/python3.11/dist-packages (from notebook>=4.4.1->widgetsnbextension~=3.6.0->ipywidgets>=7.6.5->pycaret) (0.18.1)\n",
            "Requirement already satisfied: prometheus-client in /usr/local/lib/python3.11/dist-packages (from notebook>=4.4.1->widgetsnbextension~=3.6.0->ipywidgets>=7.6.5->pycaret) (0.22.1)\n",
            "Requirement already satisfied: nbclassic>=0.4.7 in /usr/local/lib/python3.11/dist-packages (from notebook>=4.4.1->widgetsnbextension~=3.6.0->ipywidgets>=7.6.5->pycaret) (1.3.1)\n",
            "Requirement already satisfied: notebook-shim>=0.2.3 in /usr/local/lib/python3.11/dist-packages (from nbclassic>=0.4.7->notebook>=4.4.1->widgetsnbextension~=3.6.0->ipywidgets>=7.6.5->pycaret) (0.2.4)\n",
            "Requirement already satisfied: beautifulsoup4 in /usr/local/lib/python3.11/dist-packages (from nbconvert>=5->notebook>=4.4.1->widgetsnbextension~=3.6.0->ipywidgets>=7.6.5->pycaret) (4.13.4)\n",
            "Requirement already satisfied: bleach!=5.0.0 in /usr/local/lib/python3.11/dist-packages (from bleach[css]!=5.0.0->nbconvert>=5->notebook>=4.4.1->widgetsnbextension~=3.6.0->ipywidgets>=7.6.5->pycaret) (6.2.0)\n",
            "Requirement already satisfied: defusedxml in /usr/local/lib/python3.11/dist-packages (from nbconvert>=5->notebook>=4.4.1->widgetsnbextension~=3.6.0->ipywidgets>=7.6.5->pycaret) (0.7.1)\n",
            "Requirement already satisfied: jupyterlab-pygments in /usr/local/lib/python3.11/dist-packages (from nbconvert>=5->notebook>=4.4.1->widgetsnbextension~=3.6.0->ipywidgets>=7.6.5->pycaret) (0.3.0)\n",
            "Requirement already satisfied: mistune<4,>=2.0.3 in /usr/local/lib/python3.11/dist-packages (from nbconvert>=5->notebook>=4.4.1->widgetsnbextension~=3.6.0->ipywidgets>=7.6.5->pycaret) (3.1.3)\n",
            "Requirement already satisfied: nbclient>=0.5.0 in /usr/local/lib/python3.11/dist-packages (from nbconvert>=5->notebook>=4.4.1->widgetsnbextension~=3.6.0->ipywidgets>=7.6.5->pycaret) (0.10.2)\n",
            "Requirement already satisfied: pandocfilters>=1.4.1 in /usr/local/lib/python3.11/dist-packages (from nbconvert>=5->notebook>=4.4.1->widgetsnbextension~=3.6.0->ipywidgets>=7.6.5->pycaret) (1.5.1)\n",
            "Requirement already satisfied: argon2-cffi-bindings in /usr/local/lib/python3.11/dist-packages (from argon2-cffi->notebook>=4.4.1->widgetsnbextension~=3.6.0->ipywidgets>=7.6.5->pycaret) (21.2.0)\n",
            "Requirement already satisfied: webencodings in /usr/local/lib/python3.11/dist-packages (from bleach!=5.0.0->bleach[css]!=5.0.0->nbconvert>=5->notebook>=4.4.1->widgetsnbextension~=3.6.0->ipywidgets>=7.6.5->pycaret) (0.5.1)\n",
            "Requirement already satisfied: tinycss2<1.5,>=1.1.0 in /usr/local/lib/python3.11/dist-packages (from bleach[css]!=5.0.0->nbconvert>=5->notebook>=4.4.1->widgetsnbextension~=3.6.0->ipywidgets>=7.6.5->pycaret) (1.4.0)\n",
            "Requirement already satisfied: jupyter-server<3,>=1.8 in /usr/local/lib/python3.11/dist-packages (from notebook-shim>=0.2.3->nbclassic>=0.4.7->notebook>=4.4.1->widgetsnbextension~=3.6.0->ipywidgets>=7.6.5->pycaret) (1.16.0)\n",
            "Requirement already satisfied: cffi>=1.0.1 in /usr/local/lib/python3.11/dist-packages (from argon2-cffi-bindings->argon2-cffi->notebook>=4.4.1->widgetsnbextension~=3.6.0->ipywidgets>=7.6.5->pycaret) (1.17.1)\n",
            "Requirement already satisfied: soupsieve>1.2 in /usr/local/lib/python3.11/dist-packages (from beautifulsoup4->nbconvert>=5->notebook>=4.4.1->widgetsnbextension~=3.6.0->ipywidgets>=7.6.5->pycaret) (2.7)\n",
            "Requirement already satisfied: pycparser in /usr/local/lib/python3.11/dist-packages (from cffi>=1.0.1->argon2-cffi-bindings->argon2-cffi->notebook>=4.4.1->widgetsnbextension~=3.6.0->ipywidgets>=7.6.5->pycaret) (2.22)\n",
            "Requirement already satisfied: anyio>=3.1.0 in /usr/local/lib/python3.11/dist-packages (from jupyter-server<3,>=1.8->notebook-shim>=0.2.3->nbclassic>=0.4.7->notebook>=4.4.1->widgetsnbextension~=3.6.0->ipywidgets>=7.6.5->pycaret) (4.9.0)\n",
            "Requirement already satisfied: websocket-client in /usr/local/lib/python3.11/dist-packages (from jupyter-server<3,>=1.8->notebook-shim>=0.2.3->nbclassic>=0.4.7->notebook>=4.4.1->widgetsnbextension~=3.6.0->ipywidgets>=7.6.5->pycaret) (1.8.0)\n",
            "Requirement already satisfied: sniffio>=1.1 in /usr/local/lib/python3.11/dist-packages (from anyio>=3.1.0->jupyter-server<3,>=1.8->notebook-shim>=0.2.3->nbclassic>=0.4.7->notebook>=4.4.1->widgetsnbextension~=3.6.0->ipywidgets>=7.6.5->pycaret) (1.3.1)\n",
            "Downloading pycaret-3.3.2-py3-none-any.whl (486 kB)\n",
            "\u001b[2K   \u001b[90m━━━━━━━━━━━━━━━━━━━━━━━━━━━━━━━━━━━━━━━━\u001b[0m \u001b[32m486.1/486.1 kB\u001b[0m \u001b[31m13.2 MB/s\u001b[0m eta \u001b[36m0:00:00\u001b[0m\n",
            "\u001b[?25hDownloading schemdraw-0.15-py3-none-any.whl (106 kB)\n",
            "\u001b[2K   \u001b[90m━━━━━━━━━━━━━━━━━━━━━━━━━━━━━━━━━━━━━━━━\u001b[0m \u001b[32m106.8/106.8 kB\u001b[0m \u001b[31m7.5 MB/s\u001b[0m eta \u001b[36m0:00:00\u001b[0m\n",
            "\u001b[?25hDownloading sktime-0.26.0-py3-none-any.whl (21.8 MB)\n",
            "\u001b[2K   \u001b[90m━━━━━━━━━━━━━━━━━━━━━━━━━━━━━━━━━━━━━━━━\u001b[0m \u001b[32m21.8/21.8 MB\u001b[0m \u001b[31m54.5 MB/s\u001b[0m eta \u001b[36m0:00:00\u001b[0m\n",
            "\u001b[?25hDownloading category_encoders-2.7.0-py3-none-any.whl (85 kB)\n",
            "\u001b[2K   \u001b[90m━━━━━━━━━━━━━━━━━━━━━━━━━━━━━━━━━━━━━━━━\u001b[0m \u001b[32m85.4/85.4 kB\u001b[0m \u001b[31m6.1 MB/s\u001b[0m eta \u001b[36m0:00:00\u001b[0m\n",
            "\u001b[?25hDownloading deprecation-2.1.0-py2.py3-none-any.whl (11 kB)\n",
            "Downloading joblib-1.3.2-py3-none-any.whl (302 kB)\n",
            "\u001b[2K   \u001b[90m━━━━━━━━━━━━━━━━━━━━━━━━━━━━━━━━━━━━━━━━\u001b[0m \u001b[32m302.2/302.2 kB\u001b[0m \u001b[31m19.5 MB/s\u001b[0m eta \u001b[36m0:00:00\u001b[0m\n",
            "\u001b[?25hDownloading kaleido-1.0.0-py3-none-any.whl (51 kB)\n",
            "\u001b[2K   \u001b[90m━━━━━━━━━━━━━━━━━━━━━━━━━━━━━━━━━━━━━━━━\u001b[0m \u001b[32m51.5/51.5 kB\u001b[0m \u001b[31m3.6 MB/s\u001b[0m eta \u001b[36m0:00:00\u001b[0m\n",
            "\u001b[?25hDownloading matplotlib-3.7.5-cp311-cp311-manylinux_2_17_x86_64.manylinux2014_x86_64.whl (11.6 MB)\n",
            "\u001b[2K   \u001b[90m━━━━━━━━━━━━━━━━━━━━━━━━━━━━━━━━━━━━━━━━\u001b[0m \u001b[32m11.6/11.6 MB\u001b[0m \u001b[31m65.4 MB/s\u001b[0m eta \u001b[36m0:00:00\u001b[0m\n",
            "\u001b[?25hDownloading numpy-1.26.4-cp311-cp311-manylinux_2_17_x86_64.manylinux2014_x86_64.whl (18.3 MB)\n",
            "\u001b[2K   \u001b[90m━━━━━━━━━━━━━━━━━━━━━━━━━━━━━━━━━━━━━━━━\u001b[0m \u001b[32m18.3/18.3 MB\u001b[0m \u001b[31m67.3 MB/s\u001b[0m eta \u001b[36m0:00:00\u001b[0m\n",
            "\u001b[?25hDownloading pandas-2.1.4-cp311-cp311-manylinux_2_17_x86_64.manylinux2014_x86_64.whl (12.2 MB)\n",
            "\u001b[2K   \u001b[90m━━━━━━━━━━━━━━━━━━━━━━━━━━━━━━━━━━━━━━━━\u001b[0m \u001b[32m12.2/12.2 MB\u001b[0m \u001b[31m76.6 MB/s\u001b[0m eta \u001b[36m0:00:00\u001b[0m\n",
            "\u001b[?25hDownloading plotly_resampler-0.10.0-py3-none-any.whl (80 kB)\n",
            "\u001b[2K   \u001b[90m━━━━━━━━━━━━━━━━━━━━━━━━━━━━━━━━━━━━━━━━\u001b[0m \u001b[32m80.7/80.7 kB\u001b[0m \u001b[31m6.0 MB/s\u001b[0m eta \u001b[36m0:00:00\u001b[0m\n",
            "\u001b[?25hDownloading pmdarima-2.0.4-cp311-cp311-manylinux_2_17_x86_64.manylinux2014_x86_64.manylinux_2_28_x86_64.whl (2.2 MB)\n",
            "\u001b[2K   \u001b[90m━━━━━━━━━━━━━━━━━━━━━━━━━━━━━━━━━━━━━━━━\u001b[0m \u001b[32m2.2/2.2 MB\u001b[0m \u001b[31m63.3 MB/s\u001b[0m eta \u001b[36m0:00:00\u001b[0m\n",
            "\u001b[?25hDownloading pyod-2.0.5-py3-none-any.whl (200 kB)\n",
            "\u001b[2K   \u001b[90m━━━━━━━━━━━━━━━━━━━━━━━━━━━━━━━━━━━━━━━━\u001b[0m \u001b[32m200.6/200.6 kB\u001b[0m \u001b[31m15.0 MB/s\u001b[0m eta \u001b[36m0:00:00\u001b[0m\n",
            "\u001b[?25hDownloading scikit_learn-1.4.2-cp311-cp311-manylinux_2_17_x86_64.manylinux2014_x86_64.whl (12.1 MB)\n",
            "\u001b[2K   \u001b[90m━━━━━━━━━━━━━━━━━━━━━━━━━━━━━━━━━━━━━━━━\u001b[0m \u001b[32m12.1/12.1 MB\u001b[0m \u001b[31m79.4 MB/s\u001b[0m eta \u001b[36m0:00:00\u001b[0m\n",
            "\u001b[?25hDownloading scikit_plot-0.3.7-py3-none-any.whl (33 kB)\n",
            "Downloading scipy-1.11.4-cp311-cp311-manylinux_2_17_x86_64.manylinux2014_x86_64.whl (36.4 MB)\n",
            "\u001b[2K   \u001b[90m━━━━━━━━━━━━━━━━━━━━━━━━━━━━━━━━━━━━━━━━\u001b[0m \u001b[32m36.4/36.4 MB\u001b[0m \u001b[31m11.9 MB/s\u001b[0m eta \u001b[36m0:00:00\u001b[0m\n",
            "\u001b[?25hDownloading tbats-1.1.3-py3-none-any.whl (44 kB)\n",
            "\u001b[2K   \u001b[90m━━━━━━━━━━━━━━━━━━━━━━━━━━━━━━━━━━━━━━━━\u001b[0m \u001b[32m44.0/44.0 kB\u001b[0m \u001b[31m3.4 MB/s\u001b[0m eta \u001b[36m0:00:00\u001b[0m\n",
            "\u001b[?25hDownloading choreographer-1.0.9-py3-none-any.whl (51 kB)\n",
            "\u001b[2K   \u001b[90m━━━━━━━━━━━━━━━━━━━━━━━━━━━━━━━━━━━━━━━━\u001b[0m \u001b[32m51.3/51.3 kB\u001b[0m \u001b[31m3.6 MB/s\u001b[0m eta \u001b[36m0:00:00\u001b[0m\n",
            "\u001b[?25hDownloading dash-3.1.1-py3-none-any.whl (7.9 MB)\n",
            "\u001b[2K   \u001b[90m━━━━━━━━━━━━━━━━━━━━━━━━━━━━━━━━━━━━━━━━\u001b[0m \u001b[32m7.9/7.9 MB\u001b[0m \u001b[31m107.2 MB/s\u001b[0m eta \u001b[36m0:00:00\u001b[0m\n",
            "\u001b[?25hDownloading jedi-0.19.2-py2.py3-none-any.whl (1.6 MB)\n",
            "\u001b[2K   \u001b[90m━━━━━━━━━━━━━━━━━━━━━━━━━━━━━━━━━━━━━━━━\u001b[0m \u001b[32m1.6/1.6 MB\u001b[0m \u001b[31m67.8 MB/s\u001b[0m eta \u001b[36m0:00:00\u001b[0m\n",
            "\u001b[?25hDownloading logistro-1.1.0-py3-none-any.whl (7.9 kB)\n",
            "Downloading scikit_base-0.7.8-py3-none-any.whl (130 kB)\n",
            "\u001b[2K   \u001b[90m━━━━━━━━━━━━━━━━━━━━━━━━━━━━━━━━━━━━━━━━\u001b[0m \u001b[32m130.1/130.1 kB\u001b[0m \u001b[31m10.5 MB/s\u001b[0m eta \u001b[36m0:00:00\u001b[0m\n",
            "\u001b[?25hDownloading tsdownsample-0.1.4.1-cp311-cp311-manylinux_2_17_x86_64.manylinux2014_x86_64.whl (1.3 MB)\n",
            "\u001b[2K   \u001b[90m━━━━━━━━━━━━━━━━━━━━━━━━━━━━━━━━━━━━━━━━\u001b[0m \u001b[32m1.3/1.3 MB\u001b[0m \u001b[31m64.1 MB/s\u001b[0m eta \u001b[36m0:00:00\u001b[0m\n",
            "\u001b[?25hDownloading retrying-1.4.0-py3-none-any.whl (11 kB)\n",
            "Installing collected packages: scikit-base, schemdraw, retrying, numpy, logistro, joblib, jedi, deprecation, tsdownsample, scipy, pandas, choreographer, scikit-learn, matplotlib, kaleido, dash, sktime, scikit-plot, pyod, pmdarima, plotly-resampler, category-encoders, tbats, pycaret\n",
            "  Attempting uninstall: numpy\n",
            "    Found existing installation: numpy 2.0.2\n",
            "    Uninstalling numpy-2.0.2:\n",
            "      Successfully uninstalled numpy-2.0.2\n",
            "  Attempting uninstall: joblib\n",
            "    Found existing installation: joblib 1.5.1\n",
            "    Uninstalling joblib-1.5.1:\n",
            "      Successfully uninstalled joblib-1.5.1\n",
            "  Attempting uninstall: scipy\n",
            "    Found existing installation: scipy 1.15.3\n",
            "    Uninstalling scipy-1.15.3:\n",
            "      Successfully uninstalled scipy-1.15.3\n",
            "  Attempting uninstall: pandas\n",
            "    Found existing installation: pandas 2.2.2\n",
            "    Uninstalling pandas-2.2.2:\n",
            "      Successfully uninstalled pandas-2.2.2\n",
            "  Attempting uninstall: scikit-learn\n",
            "    Found existing installation: scikit-learn 1.6.1\n",
            "    Uninstalling scikit-learn-1.6.1:\n",
            "      Successfully uninstalled scikit-learn-1.6.1\n",
            "  Attempting uninstall: matplotlib\n",
            "    Found existing installation: matplotlib 3.10.0\n",
            "    Uninstalling matplotlib-3.10.0:\n",
            "      Successfully uninstalled matplotlib-3.10.0\n",
            "\u001b[31mERROR: pip's dependency resolver does not currently take into account all the packages that are installed. This behaviour is the source of the following dependency conflicts.\n",
            "google-colab 1.0.0 requires pandas==2.2.2, but you have pandas 2.1.4 which is incompatible.\n",
            "tsfresh 0.21.0 requires scipy>=1.14.0; python_version >= \"3.10\", but you have scipy 1.11.4 which is incompatible.\n",
            "plotnine 0.14.6 requires matplotlib>=3.8.0, but you have matplotlib 3.7.5 which is incompatible.\n",
            "plotnine 0.14.6 requires pandas>=2.2.0, but you have pandas 2.1.4 which is incompatible.\n",
            "mizani 0.13.5 requires pandas>=2.2.0, but you have pandas 2.1.4 which is incompatible.\n",
            "opencv-python-headless 4.12.0.88 requires numpy<2.3.0,>=2; python_version >= \"3.9\", but you have numpy 1.26.4 which is incompatible.\n",
            "umap-learn 0.5.9.post2 requires scikit-learn>=1.6, but you have scikit-learn 1.4.2 which is incompatible.\n",
            "thinc 8.3.6 requires numpy<3.0.0,>=2.0.0, but you have numpy 1.26.4 which is incompatible.\u001b[0m\u001b[31m\n",
            "\u001b[0mSuccessfully installed category-encoders-2.7.0 choreographer-1.0.9 dash-3.1.1 deprecation-2.1.0 jedi-0.19.2 joblib-1.3.2 kaleido-1.0.0 logistro-1.1.0 matplotlib-3.7.5 numpy-1.26.4 pandas-2.1.4 plotly-resampler-0.10.0 pmdarima-2.0.4 pycaret-3.3.2 pyod-2.0.5 retrying-1.4.0 schemdraw-0.15 scikit-base-0.7.8 scikit-learn-1.4.2 scikit-plot-0.3.7 scipy-1.11.4 sktime-0.26.0 tbats-1.1.3 tsdownsample-0.1.4.1\n"
          ]
        },
        {
          "output_type": "display_data",
          "data": {
            "application/vnd.colab-display-data+json": {
              "pip_warning": {
                "packages": [
                  "matplotlib",
                  "mpl_toolkits",
                  "numpy",
                  "site"
                ]
              },
              "id": "bec9b2de10ca4f86a28c4413f55b0ce1"
            }
          },
          "metadata": {}
        }
      ],
      "source": [
        "#εγκατάσταση πακέτου pycaret (https://pycaret.org/)\n",
        "!pip install pycaret\n",
        "#***ΠΡΟΣΟΧΗ*** μετά την εγκατάσταση χρειάζεται restart το session\n",
        "#***θα σας ζητηθεί επανεκκίνηση με σχετικό κόκκινο μήνυμα μετά την ολοκλήρωση της εγκατάστασης\n",
        "#***Πατήστε το κουμπί RESTART SESSION στο σχετικό μήνυμα"
      ]
    },
    {
      "cell_type": "code",
      "execution_count": 1,
      "metadata": {
        "id": "7LfnpwSS9nue"
      },
      "outputs": [],
      "source": [
        "#εισαγωγή βιβλιοθηκών - πακέτων\n",
        "import pycaret\n",
        "import pandas as pd\n",
        "import numpy as np\n",
        "import matplotlib.pyplot as plt\n",
        "from pycaret.classification import *"
      ]
    },
    {
      "cell_type": "code",
      "execution_count": 9,
      "metadata": {
        "colab": {
          "base_uri": "https://localhost:8080/"
        },
        "id": "ZunbzPVa9a6g",
        "outputId": "080d0672-b403-4906-bf32-24b9e02c6aa2"
      },
      "outputs": [
        {
          "output_type": "stream",
          "name": "stdout",
          "text": [
            "(117588, 6)\n"
          ]
        }
      ],
      "source": [
        "#εισαγωγή του συνόλου δεδομένων αλλαγή από dga_2class.csv σε dga_domain.csv\n",
        "url = 'https://raw.githubusercontent.com/kdemertzis/EKPA/main/Data/dga_domain.csv'\n",
        "df = pd.read_csv(url)\n",
        "#έλεγχος σχήματος συνόλου δεδομένων\n",
        "print(df.shape)"
      ]
    },
    {
      "cell_type": "code",
      "execution_count": 10,
      "metadata": {
        "colab": {
          "base_uri": "https://localhost:8080/"
        },
        "id": "DCynJDtpYx8z",
        "outputId": "e8f435bc-d2aa-4d96-907f-d06e38b643c1"
      },
      "outputs": [
        {
          "output_type": "stream",
          "name": "stdout",
          "text": [
            "       length   entropy   alexa_grams   word_grams       diff  class\n",
            "67226      18  3.308271     50.929026    68.413972 -17.484946  legit\n",
            "34438      16  3.125000     83.060946    87.154038  -4.093092  legit\n",
            "25482      13  3.392747     44.181188    36.997676   7.183512  legit\n",
            "87910       6  2.251629     13.990982    20.570286  -6.579304  legit\n",
            "13644       8  2.750000     22.309723    23.360632  -1.050909  legit\n"
          ]
        }
      ],
      "source": [
        "#ανακάτεμα των δεδομένων\n",
        "df = df.sample(frac = 1)\n",
        "print(df.head())"
      ]
    },
    {
      "cell_type": "code",
      "execution_count": 11,
      "metadata": {
        "id": "J6y3Zhq2-EZ8"
      },
      "outputs": [],
      "source": [
        "#εγκατάσταση του συνόλου δεδομένων\n",
        "grid = setup(data=df, target=df.columns[-1], html=False, verbose=False)"
      ]
    },
    {
      "cell_type": "code",
      "execution_count": 12,
      "metadata": {
        "colab": {
          "base_uri": "https://localhost:8080/"
        },
        "id": "ZGJ7kigzA1Rf",
        "outputId": "ad6f3d71-eb26-4249-ab60-cb495abf8e97"
      },
      "outputs": [
        {
          "output_type": "stream",
          "name": "stderr",
          "text": [
            "                                                           "
          ]
        },
        {
          "output_type": "stream",
          "name": "stdout",
          "text": [
            "                                    Model  Accuracy     AUC  Recall   Prec.  \\\n",
            "lightgbm  Light Gradient Boosting Machine    0.8896  0.9124  0.8896  0.8902   \n",
            "xgboost         Extreme Gradient Boosting    0.8884  0.9099  0.8884  0.8878   \n",
            "gbc          Gradient Boosting Classifier    0.8880  0.9094  0.8880  0.8884   \n",
            "rf               Random Forest Classifier    0.8821  0.8948  0.8821  0.8785   \n",
            "knn                K Neighbors Classifier    0.8758  0.8694  0.8758  0.8712   \n",
            "lr                    Logistic Regression    0.8752  0.8778  0.8752  0.8733   \n",
            "et                 Extra Trees Classifier    0.8718  0.8878  0.8718  0.8664   \n",
            "svm                   SVM - Linear Kernel    0.8701  0.0000  0.8701  0.8677   \n",
            "qda       Quadratic Discriminant Analysis    0.8602  0.8809  0.8602  0.8586   \n",
            "lda          Linear Discriminant Analysis    0.8495  0.8611  0.8495  0.8533   \n",
            "ridge                    Ridge Classifier    0.8324  0.0000  0.8324  0.8467   \n",
            "dt               Decision Tree Classifier    0.8265  0.7879  0.8265  0.8283   \n",
            "ada                  Ada Boost Classifier    0.7672  0.5764  0.7672  0.6453   \n",
            "nb                            Naive Bayes    0.7664  0.7806  0.7664  0.7403   \n",
            "dummy                    Dummy Classifier    0.7342  0.0000  0.7342  0.5391   \n",
            "\n",
            "              F1   Kappa     MCC  TT (Sec)  \n",
            "lightgbm  0.8808  0.7004  0.7178      1.38  \n",
            "xgboost   0.8800  0.6989  0.7143      1.97  \n",
            "gbc       0.8789  0.6962  0.7136     62.02  \n",
            "rf        0.8751  0.6871  0.6971     23.17  \n",
            "knn       0.8689  0.6717  0.6806      0.15  \n",
            "lr        0.8665  0.6637  0.6780      6.95  \n",
            "et        0.8662  0.6661  0.6716      8.09  \n",
            "svm       0.8608  0.6476  0.6630      5.42  \n",
            "qda       0.8547  0.6433  0.6480      0.07  \n",
            "lda       0.8375  0.5786  0.6032      0.07  \n",
            "ridge     0.7991  0.4797  0.5441      0.07  \n",
            "dt        0.8273  0.5780  0.5781      1.05  \n",
            "ada       0.6739  0.2219  0.3350      5.03  \n",
            "nb        0.7453  0.3714  0.3812      0.05  \n",
            "dummy     0.6217  0.0000  0.0000      0.04  \n",
            "The tensorboard extension is already loaded. To reload it, use:\n",
            "  %reload_ext tensorboard\n"
          ]
        },
        {
          "output_type": "stream",
          "name": "stderr",
          "text": [
            "\r"
          ]
        }
      ],
      "source": [
        "#σύγκριση των διαθέσιμων μοντέλων ΜΜ\n",
        "best = compare_models(cross_validation=False, n_select = 1)\n",
        "%load_ext tensorboard"
      ]
    },
    {
      "cell_type": "code",
      "execution_count": 14,
      "metadata": {
        "colab": {
          "base_uri": "https://localhost:8080/"
        },
        "id": "TorFLtNx-kCm",
        "outputId": "d8b9e054-a071-47bb-a5b7-de3e318e6135"
      },
      "outputs": [
        {
          "output_type": "stream",
          "name": "stdout",
          "text": [
            "LGBMClassifier(boosting_type='gbdt', class_weight=None, colsample_bytree=1.0,\n",
            "               importance_type='split', learning_rate=0.1, max_depth=-1,\n",
            "               min_child_samples=20, min_child_weight=0.001, min_split_gain=0.0,\n",
            "               n_estimators=100, n_jobs=-1, num_leaves=31, objective=None,\n",
            "               random_state=7626, reg_alpha=0.0, reg_lambda=0.0, subsample=1.0,\n",
            "               subsample_for_bin=200000, subsample_freq=0)\n"
          ]
        }
      ],
      "source": [
        "#αναφορά των υπερπαραμέτρων του μοντέλου με την υψηλότερη απόδοση\n",
        "print(best)"
      ]
    },
    {
      "cell_type": "code",
      "execution_count": 15,
      "metadata": {
        "colab": {
          "base_uri": "https://localhost:8080/",
          "height": 636,
          "referenced_widgets": [
            "f56276ba0c2e4f05b5242b62d7ff5be4",
            "ffaa400deb2a406f98794bc11bba9b8e",
            "5f71da41e8c94ef29933df42d8cbfea0",
            "ba48e306f2984bf3bd7b891c7d305f8e",
            "f42eae39ff3347bf918aef00df56e2dd",
            "0928dfc05aa243b5a96b5f4832afc03f",
            "bb0203ce9bbd485f83cca8fcca10f6ab"
          ]
        },
        "id": "XJTnGY38yxrE",
        "outputId": "4327f35a-560d-483d-ff58-81a0d649e7e9"
      },
      "outputs": [
        {
          "output_type": "display_data",
          "data": {
            "text/plain": [
              "interactive(children=(ToggleButtons(description='Plot Type:', icons=('',), options=(('Pipeline Plot', 'pipelin…"
            ],
            "application/vnd.jupyter.widget-view+json": {
              "version_major": 2,
              "version_minor": 0,
              "model_id": "f56276ba0c2e4f05b5242b62d7ff5be4"
            }
          },
          "metadata": {
            "application/vnd.jupyter.widget-view+json": {
              "colab": {
                "custom_widget_manager": {
                  "url": "https://ssl.gstatic.com/colaboratory-static/widgets/colab-cdn-widget-manager/2b70e893a8ba7c0f/manager.min.js"
                }
              }
            }
          }
        }
      ],
      "source": [
        "#μέτρα αξιολόγησης του μοντέλου με την υψηλότερη απόδοση\n",
        "evaluate_model(best)"
      ]
    },
    {
      "cell_type": "code",
      "execution_count": 15,
      "metadata": {
        "id": "waLSLrgmzDLP"
      },
      "outputs": [],
      "source": []
    }
  ],
  "metadata": {
    "colab": {
      "provenance": []
    },
    "kernelspec": {
      "display_name": "anaconda-ml-ai",
      "language": "python",
      "name": "conda-env-anaconda-ml-ai"
    },
    "language_info": {
      "codemirror_mode": {
        "name": "ipython",
        "version": 3
      },
      "file_extension": ".py",
      "mimetype": "text/x-python",
      "name": "python",
      "nbconvert_exporter": "python",
      "pygments_lexer": "ipython3",
      "version": "3.11.13"
    },
    "widgets": {
      "application/vnd.jupyter.widget-state+json": {
        "f56276ba0c2e4f05b5242b62d7ff5be4": {
          "model_module": "@jupyter-widgets/controls",
          "model_name": "VBoxModel",
          "model_module_version": "1.5.0",
          "state": {
            "_dom_classes": [
              "widget-interact"
            ],
            "_model_module": "@jupyter-widgets/controls",
            "_model_module_version": "1.5.0",
            "_model_name": "VBoxModel",
            "_view_count": null,
            "_view_module": "@jupyter-widgets/controls",
            "_view_module_version": "1.5.0",
            "_view_name": "VBoxView",
            "box_style": "",
            "children": [
              "IPY_MODEL_ffaa400deb2a406f98794bc11bba9b8e",
              "IPY_MODEL_5f71da41e8c94ef29933df42d8cbfea0"
            ],
            "layout": "IPY_MODEL_ba48e306f2984bf3bd7b891c7d305f8e"
          }
        },
        "ffaa400deb2a406f98794bc11bba9b8e": {
          "model_module": "@jupyter-widgets/controls",
          "model_name": "ToggleButtonsModel",
          "model_module_version": "1.5.0",
          "state": {
            "_dom_classes": [],
            "_model_module": "@jupyter-widgets/controls",
            "_model_module_version": "1.5.0",
            "_model_name": "ToggleButtonsModel",
            "_options_labels": [
              "Pipeline Plot",
              "Hyperparameters",
              "AUC",
              "Confusion Matrix",
              "Threshold",
              "Precision Recall",
              "Prediction Error",
              "Class Report",
              "Feature Selection",
              "Learning Curve",
              "Manifold Learning",
              "Calibration Curve",
              "Validation Curve",
              "Dimensions",
              "Feature Importance",
              "Feature Importance (All)",
              "Decision Boundary",
              "Lift Chart",
              "Gain Chart",
              "Decision Tree",
              "KS Statistic Plot"
            ],
            "_view_count": null,
            "_view_module": "@jupyter-widgets/controls",
            "_view_module_version": "1.5.0",
            "_view_name": "ToggleButtonsView",
            "button_style": "",
            "description": "Plot Type:",
            "description_tooltip": null,
            "disabled": false,
            "icons": [
              ""
            ],
            "index": 2,
            "layout": "IPY_MODEL_f42eae39ff3347bf918aef00df56e2dd",
            "style": "IPY_MODEL_0928dfc05aa243b5a96b5f4832afc03f",
            "tooltips": []
          }
        },
        "5f71da41e8c94ef29933df42d8cbfea0": {
          "model_module": "@jupyter-widgets/output",
          "model_name": "OutputModel",
          "model_module_version": "1.0.0",
          "state": {
            "_dom_classes": [],
            "_model_module": "@jupyter-widgets/output",
            "_model_module_version": "1.0.0",
            "_model_name": "OutputModel",
            "_view_count": null,
            "_view_module": "@jupyter-widgets/output",
            "_view_module_version": "1.0.0",
            "_view_name": "OutputView",
            "layout": "IPY_MODEL_bb0203ce9bbd485f83cca8fcca10f6ab",
            "msg_id": "",
            "outputs": [
              {
                "output_type": "display_data",
                "data": {
                  "text/plain": "<Figure size 800x550 with 1 Axes>",
                  "image/png": "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\n"
                },
                "metadata": {}
              }
            ]
          }
        },
        "ba48e306f2984bf3bd7b891c7d305f8e": {
          "model_module": "@jupyter-widgets/base",
          "model_name": "LayoutModel",
          "model_module_version": "1.2.0",
          "state": {
            "_model_module": "@jupyter-widgets/base",
            "_model_module_version": "1.2.0",
            "_model_name": "LayoutModel",
            "_view_count": null,
            "_view_module": "@jupyter-widgets/base",
            "_view_module_version": "1.2.0",
            "_view_name": "LayoutView",
            "align_content": null,
            "align_items": null,
            "align_self": null,
            "border": null,
            "bottom": null,
            "display": null,
            "flex": null,
            "flex_flow": null,
            "grid_area": null,
            "grid_auto_columns": null,
            "grid_auto_flow": null,
            "grid_auto_rows": null,
            "grid_column": null,
            "grid_gap": null,
            "grid_row": null,
            "grid_template_areas": null,
            "grid_template_columns": null,
            "grid_template_rows": null,
            "height": null,
            "justify_content": null,
            "justify_items": null,
            "left": null,
            "margin": null,
            "max_height": null,
            "max_width": null,
            "min_height": null,
            "min_width": null,
            "object_fit": null,
            "object_position": null,
            "order": null,
            "overflow": null,
            "overflow_x": null,
            "overflow_y": null,
            "padding": null,
            "right": null,
            "top": null,
            "visibility": null,
            "width": null
          }
        },
        "f42eae39ff3347bf918aef00df56e2dd": {
          "model_module": "@jupyter-widgets/base",
          "model_name": "LayoutModel",
          "model_module_version": "1.2.0",
          "state": {
            "_model_module": "@jupyter-widgets/base",
            "_model_module_version": "1.2.0",
            "_model_name": "LayoutModel",
            "_view_count": null,
            "_view_module": "@jupyter-widgets/base",
            "_view_module_version": "1.2.0",
            "_view_name": "LayoutView",
            "align_content": null,
            "align_items": null,
            "align_self": null,
            "border": null,
            "bottom": null,
            "display": null,
            "flex": null,
            "flex_flow": null,
            "grid_area": null,
            "grid_auto_columns": null,
            "grid_auto_flow": null,
            "grid_auto_rows": null,
            "grid_column": null,
            "grid_gap": null,
            "grid_row": null,
            "grid_template_areas": null,
            "grid_template_columns": null,
            "grid_template_rows": null,
            "height": null,
            "justify_content": null,
            "justify_items": null,
            "left": null,
            "margin": null,
            "max_height": null,
            "max_width": null,
            "min_height": null,
            "min_width": null,
            "object_fit": null,
            "object_position": null,
            "order": null,
            "overflow": null,
            "overflow_x": null,
            "overflow_y": null,
            "padding": null,
            "right": null,
            "top": null,
            "visibility": null,
            "width": null
          }
        },
        "0928dfc05aa243b5a96b5f4832afc03f": {
          "model_module": "@jupyter-widgets/controls",
          "model_name": "ToggleButtonsStyleModel",
          "model_module_version": "1.5.0",
          "state": {
            "_model_module": "@jupyter-widgets/controls",
            "_model_module_version": "1.5.0",
            "_model_name": "ToggleButtonsStyleModel",
            "_view_count": null,
            "_view_module": "@jupyter-widgets/base",
            "_view_module_version": "1.2.0",
            "_view_name": "StyleView",
            "button_width": "",
            "description_width": "",
            "font_weight": ""
          }
        },
        "bb0203ce9bbd485f83cca8fcca10f6ab": {
          "model_module": "@jupyter-widgets/base",
          "model_name": "LayoutModel",
          "model_module_version": "1.2.0",
          "state": {
            "_model_module": "@jupyter-widgets/base",
            "_model_module_version": "1.2.0",
            "_model_name": "LayoutModel",
            "_view_count": null,
            "_view_module": "@jupyter-widgets/base",
            "_view_module_version": "1.2.0",
            "_view_name": "LayoutView",
            "align_content": null,
            "align_items": null,
            "align_self": null,
            "border": null,
            "bottom": null,
            "display": null,
            "flex": null,
            "flex_flow": null,
            "grid_area": null,
            "grid_auto_columns": null,
            "grid_auto_flow": null,
            "grid_auto_rows": null,
            "grid_column": null,
            "grid_gap": null,
            "grid_row": null,
            "grid_template_areas": null,
            "grid_template_columns": null,
            "grid_template_rows": null,
            "height": null,
            "justify_content": null,
            "justify_items": null,
            "left": null,
            "margin": null,
            "max_height": null,
            "max_width": null,
            "min_height": null,
            "min_width": null,
            "object_fit": null,
            "object_position": null,
            "order": null,
            "overflow": null,
            "overflow_x": null,
            "overflow_y": null,
            "padding": null,
            "right": null,
            "top": null,
            "visibility": null,
            "width": null
          }
        }
      }
    }
  },
  "nbformat": 4,
  "nbformat_minor": 0
}